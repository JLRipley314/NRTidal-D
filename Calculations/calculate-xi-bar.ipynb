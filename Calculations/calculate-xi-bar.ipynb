{
 "cells": [
  {
   "cell_type": "markdown",
   "id": "f180b2b0-2f55-43fe-9885-c8f150c54b6c",
   "metadata": {},
   "source": [
    "# Calculation of tidal deformability $\\bar{\\Xi}$\n",
    "\n",
    "We calculate the tidal deformability parameter $\\bar{\\Xi}$, as introduced in arXiv:2306.15633\n",
    "\n",
    "Consider star/compact object $A$, with mass $m_A$ and characteristic radius $R_A$ (for example, if the start is essentially spherically symmetric, $R_A$ could be its areal radius). We define the compactness\n",
    "\n",
    "$C_A=\\frac{Gm_A}{R_Ac^2}$.\n",
    "\n",
    "For a Schwarzschild black hole $C_A=1/2$. \n",
    "\n",
    "The adiabatic tidal deformability is\n",
    "\n",
    "$\\Lambda_A=\\frac{2}{3}\\frac{k_{2,A}}{C_A^5}$,\n",
    "\n",
    "where $k_{2,A}$ is the stars tidal Love number.\n",
    "\n",
    "The dissipative tidal deformability is\n",
    "\n",
    "$\\Xi_A = \\frac{2}{3} \\frac{k_{2,A}}{C_A^6} \\frac{c\\tau_{2,A}}{R_A}$,\n",
    "\n",
    "where we have introduced the *tidal lag time* $\\tau_{2,A}$.\n",
    "\n",
    "To leading order, what enters the gravitational waveform is are the rescaled tidal deformabilities\n",
    "\n",
    "$\\bar{\\Lambda} = \n",
    "f\\left(\\eta\\right) \\frac{\\Lambda_A+\\Lambda_B}{2}\n",
    "+\n",
    "g\\left(\\eta\\right) \\frac{\\Lambda_A-\\Lambda_B}{2}\n",
    "$\n",
    "\n",
    "$\\bar{\\Xi} = \n",
    "f_1\\left(\\eta\\right) \\frac{\\Xi_A+\\Xi_B}{2}\n",
    "+\n",
    "g_1\\left(\\eta\\right) \\frac{\\Xi_A-\\Xi_B}{2}\n",
    "$\n",
    "\n",
    "where $\\eta$ is the symmetric mass ratio $\\eta=m_Am_B/(m_A+m_B)^2$ and \n",
    "\n",
    "$f\\left(\\eta\\right) = \\frac{16}{13}\\left(1+7\\eta - 31\\eta^2\\right)$\n",
    "\n",
    "$g\\left(\\eta\\right) = - \\frac{16}{13}\\sqrt{1-4\\eta}\\left(1+9\\eta-11\\eta^2\\right)$\n",
    "\n",
    "$f_1\\left(\\eta\\right) = 8 \\left(2\\eta^2 - 4\\eta + 1 \\right)$\n",
    "\n",
    "$g_1\\left(\\eta\\right) = - 8 \\sqrt{1-4\\eta}\\left(1-2\\eta\\right)$\n",
    "\n",
    "Finally, we can relate $\\tau_{2,A}$ to the effective kinematic viscosity of the star via the phenomenological relation\n",
    "\n",
    "$\\tau_{2,A} = - \\frac{p_{2,A}\\nu_AR_A}{Gm_A}$\n",
    "\n",
    "where\n",
    "\n",
    "$\\nu_A = \\frac{\\zeta_A}{\\rho_A}$\n",
    "\n",
    "Here $\\zeta_A$ is the bulk viscosity, and $\\rho_A$ is the density.\n",
    "\n",
    "Computing the proportionality constant $p_{2,A}$ is the subject of another work. Here we notice that $\\bar{\\Xi}$ depends linearly on $p_{2,A}$ (and $k_{2,A}$), so we can ignore when we compute $\\bar{\\Xi}$ for now, and add it to the end of our calculation."
   ]
  },
  {
   "cell_type": "code",
   "execution_count": 30,
   "id": "8ab3d0fd-6ed9-4e69-8287-482d9cc8220c",
   "metadata": {},
   "outputs": [],
   "source": [
    "from astropy.constants import G, c, M_sun\n",
    "from astropy import units as u\n",
    "import numpy as np"
   ]
  },
  {
   "cell_type": "markdown",
   "id": "bc6c066d-068a-4642-98da-4dd2274ddf5c",
   "metadata": {},
   "source": [
    "## Calculation for GW170817 - like event\n",
    "\n",
    "We take parameters from arXiv: 1805.11581\n",
    "\n",
    "$m_A \\approx m_B \\approx 1.4 \\; M_{\\odot}$\n",
    "\n",
    "$R_A \\approx R_B \\approx 11 \\; \\mathrm{km}$\n",
    "\n",
    "We take a value of $\\zeta$ at the largest value currently claimed in the literature (arXiv:2309.01864)\n",
    "\n",
    "$\\zeta\\approx 10^{31} \\; \\mathrm{g} \\; \\mathrm{cm} \\; \\mathrm{s}^{-1}$"
   ]
  },
  {
   "cell_type": "code",
   "execution_count": 31,
   "id": "34a2d621-b215-45fc-b958-1f0213618f45",
   "metadata": {},
   "outputs": [],
   "source": [
    "def sphere(r):\n",
    "    return (4*np.pi/3) * r*r*r\n",
    "\n",
    "def calc_symmratio(m_1,m_2):\n",
    "    return m_1*m_2*pow(m_1+m_2,-2)\n",
    "\n",
    "def f(symmratio):\n",
    "    return (16/13) * (1 + 7*symmratio - 31*pow(symmratio,2))\n",
    "\n",
    "def g(symmratio):\n",
    "    return - (16/13) * np.sqrt(1 - 4*symmratio) * (1 + 9*symmratio - 11*pow(symmratio,2))\n",
    "\n",
    "def f1(symmratio):\n",
    "    return 8 * (2*pow(symmratio,2) - 4*symmratio + 1)\n",
    "\n",
    "def g1(symmratio):\n",
    "    return - 8 * np.sqrt(1 - 4*symmratio) * (1 - 2*symmratio)"
   ]
  },
  {
   "cell_type": "code",
   "execution_count": 32,
   "id": "d2caa05f-822a-4318-9c5c-2db9d5e050e9",
   "metadata": {},
   "outputs": [],
   "source": [
    "M_A = (1.38*M_sun).cgs\n",
    "M_B = (1.38*M_sun).cgs\n",
    "R_A = (11*u.km).cgs\n",
    "R_B = (11*u.km).cgs"
   ]
  },
  {
   "cell_type": "code",
   "execution_count": 4,
   "id": "9506c0c1-999e-4fd6-be09-c99c1a58a366",
   "metadata": {},
   "outputs": [],
   "source": [
    "C_A = (G*M_A / (R_A * c*c)).cgs\n",
    "C_B = (G*M_B / (R_B * c*c)).cgs\n",
    "\n",
    "symmratio = calc_symmratio(M_A,M_B)"
   ]
  },
  {
   "cell_type": "markdown",
   "id": "18df21df-92da-482d-8b49-c7597b108564",
   "metadata": {},
   "source": [
    "#### Tidal quantities\n",
    "\n",
    "We set $\\nu_A$ to its (rough) maximal value consistent with causal momentum transport across the star (this is discussed more in [2306.15633](https://arxiv.org/abs/2306.15633), Sec IV.A). In particular we set\n",
    "\n",
    "$\\nu_A = c R_A$\n",
    "\n",
    "Plugging this into the parameterization into \n",
    "\n",
    "$\\tau_{2,A} = - \\frac{p_{2,A}\\nu_AR_A}{Gm_A}$\n",
    "\n",
    "we obtain\n",
    "\n",
    "$c \\tau_{2,A} / R_A = - p_{2,A} / C_A$"
   ]
  },
  {
   "cell_type": "code",
   "execution_count": 35,
   "id": "dc332233-7cc0-4f71-8b38-1b97189d0023",
   "metadata": {},
   "outputs": [],
   "source": [
    "# If you don't want to set to the causal maximum viscosity, uncomment this section\n",
    "\n",
    "#rho_A = M_A / sphere(R_A)\n",
    "#rho_B = M_B / sphere(R_B)\n",
    "\n",
    "#zeta = pow(10,31) * u.g / u.cm / u.s\n",
    "\n",
    "#nu_A = zeta / rho_A\n",
    "#nu_B = zeta / rho_B\n",
    "\n",
    "#tau_A = (nu_A * R_A / (G * M_A)).cgs\n",
    "#tau_B = (nu_B * R_B / (G * M_B)).cgs\n",
    "\n",
    "#Xi_A = ((2/3) * pow(C_A,-6) * c * tau_A / R_A).cgs\n",
    "#Xi_B = ((2/3) * pow(C_B,-6) * c * tau_B / R_B).cgs"
   ]
  },
  {
   "cell_type": "code",
   "execution_count": 36,
   "id": "4b39d298-3315-42cf-a213-d060460287e4",
   "metadata": {},
   "outputs": [],
   "source": [
    "Lambda_A = (2/3) * pow(C_A,-5)\n",
    "Lambda_B = (2/3) * pow(C_B,-5)"
   ]
  },
  {
   "cell_type": "code",
   "execution_count": 58,
   "id": "cc61e82f-4b0e-4624-a9b9-9553b47876c8",
   "metadata": {},
   "outputs": [],
   "source": [
    "# comment this out if you don't want to set the causal maximum viscosity\n",
    "\n",
    "nu_A = (c*R_A).cgs\n",
    "nu_B = (c*R_B).cgs\n",
    "\n",
    "tau_A = (nu_A * R_A / (G * M_A)).cgs\n",
    "tau_B = (nu_B * R_B / (G * M_B)).cgs\n",
    "\n",
    "Xi_A = ((2/3) * pow(C_A,-7)).cgs\n",
    "Xi_B = ((2/3) * pow(C_B,-7)).cgs"
   ]
  },
  {
   "cell_type": "code",
   "execution_count": 59,
   "id": "39147eba-4ec0-4c5a-ac58-5a6ad84f6aca",
   "metadata": {},
   "outputs": [],
   "source": [
    "Lambda_bar = 0.5*(Lambda_A + Lambda_B)*f(symmratio) + 0.5*(Lambda_A - Lambda_B)*g(symmratio)\n",
    "\n",
    "Xi_bar = 0.5*(Xi_A + Xi_B)*f1(symmratio) + 0.5*(Xi_A - Xi_B)*g1(symmratio)"
   ]
  },
  {
   "cell_type": "markdown",
   "id": "26a437c4-25d9-4022-8a30-129ac03f9cb3",
   "metadata": {},
   "source": [
    "#### Reference values\n",
    "\n",
    "For reference, we print out some of the relevant quantities in our expressions"
   ]
  },
  {
   "cell_type": "code",
   "execution_count": 60,
   "id": "9fd00a58-5b55-4871-9581-e6e5560508d1",
   "metadata": {},
   "outputs": [
    {
     "data": {
      "text/latex": [
       "$0.18524932 \\; \\mathrm{}$"
      ],
      "text/plain": [
       "<Quantity 0.18524932>"
      ]
     },
     "execution_count": 60,
     "metadata": {},
     "output_type": "execute_result"
    }
   ],
   "source": [
    "C_A"
   ]
  },
  {
   "cell_type": "code",
   "execution_count": 61,
   "id": "2d64e2fe-7d80-4664-9206-bc35e1f2e3a2",
   "metadata": {},
   "outputs": [
    {
     "data": {
      "text/latex": [
       "$4.9217362 \\times 10^{14} \\; \\mathrm{\\frac{g}{cm^{3}}}$"
      ],
      "text/plain": [
       "<Quantity 4.9217362e+14 g / cm3>"
      ]
     },
     "execution_count": 61,
     "metadata": {},
     "output_type": "execute_result"
    }
   ],
   "source": [
    "rho_A"
   ]
  },
  {
   "cell_type": "code",
   "execution_count": 62,
   "id": "c74b5361-8545-40c6-832d-6e5b2776a095",
   "metadata": {},
   "outputs": [
    {
     "data": {
      "text/latex": [
       "$3.297717 \\times 10^{16} \\; \\mathrm{\\frac{cm^{2}}{s}}$"
      ],
      "text/plain": [
       "<Quantity 3.29771704e+16 cm2 / s>"
      ]
     },
     "execution_count": 62,
     "metadata": {},
     "output_type": "execute_result"
    }
   ],
   "source": [
    "nu_A"
   ]
  },
  {
   "cell_type": "code",
   "execution_count": 63,
   "id": "daf164dc-c19d-40ff-a743-6c50f40994cb",
   "metadata": {},
   "outputs": [
    {
     "data": {
      "text/latex": [
       "$0.00019806847 \\; \\mathrm{s}$"
      ],
      "text/plain": [
       "<Quantity 0.00019807 s>"
      ]
     },
     "execution_count": 63,
     "metadata": {},
     "output_type": "execute_result"
    }
   ],
   "source": [
    "tau_A"
   ]
  },
  {
   "cell_type": "code",
   "execution_count": 64,
   "id": "87a5655b-a36b-402f-b0e3-42a1d1f12c6e",
   "metadata": {},
   "outputs": [
    {
     "data": {
      "text/latex": [
       "$3055.8047 \\; \\mathrm{}$"
      ],
      "text/plain": [
       "<Quantity 3055.80469568>"
      ]
     },
     "execution_count": 64,
     "metadata": {},
     "output_type": "execute_result"
    }
   ],
   "source": [
    "Lambda_A"
   ]
  },
  {
   "cell_type": "code",
   "execution_count": 65,
   "id": "ee8a1dbd-8f5a-4e50-9bbc-80b8ab135f7d",
   "metadata": {},
   "outputs": [
    {
     "data": {
      "text/latex": [
       "$89045.573 \\; \\mathrm{}$"
      ],
      "text/plain": [
       "<Quantity 89045.57345187>"
      ]
     },
     "execution_count": 65,
     "metadata": {},
     "output_type": "execute_result"
    }
   ],
   "source": [
    "Xi_A"
   ]
  },
  {
   "cell_type": "code",
   "execution_count": 66,
   "id": "252e24cf-ba91-4b37-9879-872daac067b7",
   "metadata": {},
   "outputs": [
    {
     "data": {
      "text/latex": [
       "$3055.8047 \\; \\mathrm{}$"
      ],
      "text/plain": [
       "<Quantity 3055.80469568>"
      ]
     },
     "execution_count": 66,
     "metadata": {},
     "output_type": "execute_result"
    }
   ],
   "source": [
    "Lambda_bar"
   ]
  },
  {
   "cell_type": "code",
   "execution_count": 67,
   "id": "27f406ef-5975-40ae-99ac-e8e3316b4640",
   "metadata": {},
   "outputs": [
    {
     "data": {
      "text/latex": [
       "$89045.573 \\; \\mathrm{}$"
      ],
      "text/plain": [
       "<Quantity 89045.57345187>"
      ]
     },
     "execution_count": 67,
     "metadata": {},
     "output_type": "execute_result"
    }
   ],
   "source": [
    "Xi_bar"
   ]
  },
  {
   "cell_type": "code",
   "execution_count": 68,
   "id": "61352f73-709f-475d-b8ea-f86f8a99446e",
   "metadata": {},
   "outputs": [
    {
     "data": {
      "text/latex": [
       "$3.297717 \\times 10^{16} \\; \\mathrm{\\frac{cm^{2}}{s}}$"
      ],
      "text/plain": [
       "<Quantity 3.29771704e+16 cm2 / s>"
      ]
     },
     "execution_count": 68,
     "metadata": {},
     "output_type": "execute_result"
    }
   ],
   "source": [
    "(R_A*c).cgs"
   ]
  },
  {
   "cell_type": "markdown",
   "id": "2534b620-7813-44d8-8a45-92d4d54993de",
   "metadata": {},
   "source": [
    "#### Multiplying by $k_2$, $p_2$\n",
    "\n",
    "We still need to multiply $\\bar{\\Lambda}$ by $k_2$ and $\\bar{\\Xi}$ by $p_2\\times k_2$. For bulk viscosity, $p_2\\approx0.1$, while $k_2\\approx 0.1-1$ for neutron stars.  "
   ]
  },
  {
   "cell_type": "code",
   "execution_count": 69,
   "id": "1b9ca231-ed0b-4c73-b9b7-eb461368845f",
   "metadata": {},
   "outputs": [],
   "source": [
    "p2_A = 0.1\n",
    "p2_B = 0.1\n",
    "k2_A = 1\n",
    "k2_B = 1\n",
    "\n",
    "Lambda_A = (2/3)*k2_A*pow(C_A,-5)\n",
    "Lambda_B = (2/3)*k2_B*pow(C_B,-5)"
   ]
  },
  {
   "cell_type": "code",
   "execution_count": 70,
   "id": "63a36af1-9e0b-4ebc-93ad-23dd2afaedb9",
   "metadata": {},
   "outputs": [
    {
     "data": {
      "text/latex": [
       "$3055.8047 \\; \\mathrm{}$"
      ],
      "text/plain": [
       "<Quantity 3055.80469568>"
      ]
     },
     "execution_count": 70,
     "metadata": {},
     "output_type": "execute_result"
    }
   ],
   "source": [
    "Lambda_A"
   ]
  },
  {
   "cell_type": "code",
   "execution_count": 71,
   "id": "9b4f8c1f-89b7-4842-9e2f-15b35a78db28",
   "metadata": {},
   "outputs": [
    {
     "data": {
      "text/latex": [
       "$8904.5573 \\; \\mathrm{}$"
      ],
      "text/plain": [
       "<Quantity 8904.55734519>"
      ]
     },
     "execution_count": 71,
     "metadata": {},
     "output_type": "execute_result"
    }
   ],
   "source": [
    "p2_A*Xi_A"
   ]
  },
  {
   "cell_type": "code",
   "execution_count": 72,
   "id": "c040b017-04ee-40f2-81cb-94bca79ad9b7",
   "metadata": {},
   "outputs": [
    {
     "data": {
      "text/latex": [
       "$8904.5573 \\; \\mathrm{}$"
      ],
      "text/plain": [
       "<Quantity 8904.55734519>"
      ]
     },
     "execution_count": 72,
     "metadata": {},
     "output_type": "execute_result"
    }
   ],
   "source": [
    "p2_A*Xi_bar"
   ]
  }
 ],
 "metadata": {
  "kernelspec": {
   "display_name": "Python 3 (ipykernel)",
   "language": "python",
   "name": "python3"
  },
  "language_info": {
   "codemirror_mode": {
    "name": "ipython",
    "version": 3
   },
   "file_extension": ".py",
   "mimetype": "text/x-python",
   "name": "python",
   "nbconvert_exporter": "python",
   "pygments_lexer": "ipython3",
   "version": "3.10.12"
  }
 },
 "nbformat": 4,
 "nbformat_minor": 5
}
